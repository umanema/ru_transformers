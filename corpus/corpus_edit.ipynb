{
  "nbformat": 4,
  "nbformat_minor": 0,
  "metadata": {
    "kernelspec": {
      "name": "python3",
      "display_name": "Python 3",
      "language": "python"
    },
    "colab": {
      "name": "corpus.ipynb",
      "provenance": [],
      "collapsed_sections": [
        "Rl_q51Sm2vBh",
        "LpOckVwMevdh",
        "BO9ngT11evfA",
        "kQtmmHf4evfx"
      ],
      "toc_visible": true
    },
    "accelerator": "GPU",
    "widgets": {
      "application/vnd.jupyter.widget-state+json": {
        "cb618f20c7964d11a7f55c20ff53ddb6": {
          "model_module": "@jupyter-widgets/controls",
          "model_name": "HBoxModel",
          "state": {
            "_view_name": "HBoxView",
            "_dom_classes": [],
            "_model_name": "HBoxModel",
            "_view_module": "@jupyter-widgets/controls",
            "_model_module_version": "1.5.0",
            "_view_count": null,
            "_view_module_version": "1.5.0",
            "box_style": "",
            "layout": "IPY_MODEL_1f8f0921270b4d9d87fbc6b2046543d9",
            "_model_module": "@jupyter-widgets/controls",
            "children": [
              "IPY_MODEL_fe1db8fc144641fc95d030c49be2ceea",
              "IPY_MODEL_4ee8131635904188a9ee433ec69fb304"
            ]
          }
        },
        "1f8f0921270b4d9d87fbc6b2046543d9": {
          "model_module": "@jupyter-widgets/base",
          "model_name": "LayoutModel",
          "state": {
            "_view_name": "LayoutView",
            "grid_template_rows": null,
            "right": null,
            "justify_content": null,
            "_view_module": "@jupyter-widgets/base",
            "overflow": null,
            "_model_module_version": "1.2.0",
            "_view_count": null,
            "flex_flow": null,
            "width": null,
            "min_width": null,
            "border": null,
            "align_items": null,
            "bottom": null,
            "_model_module": "@jupyter-widgets/base",
            "top": null,
            "grid_column": null,
            "overflow_y": null,
            "overflow_x": null,
            "grid_auto_flow": null,
            "grid_area": null,
            "grid_template_columns": null,
            "flex": null,
            "_model_name": "LayoutModel",
            "justify_items": null,
            "grid_row": null,
            "max_height": null,
            "align_content": null,
            "visibility": null,
            "align_self": null,
            "height": null,
            "min_height": null,
            "padding": null,
            "grid_auto_rows": null,
            "grid_gap": null,
            "max_width": null,
            "order": null,
            "_view_module_version": "1.2.0",
            "grid_template_areas": null,
            "object_position": null,
            "object_fit": null,
            "grid_auto_columns": null,
            "margin": null,
            "display": null,
            "left": null
          }
        },
        "fe1db8fc144641fc95d030c49be2ceea": {
          "model_module": "@jupyter-widgets/controls",
          "model_name": "FloatProgressModel",
          "state": {
            "_view_name": "ProgressView",
            "style": "IPY_MODEL_6a646b45c6064e1caf2dd1256424bfb2",
            "_dom_classes": [],
            "description": "100%",
            "_model_name": "FloatProgressModel",
            "bar_style": "success",
            "max": 1,
            "_view_module": "@jupyter-widgets/controls",
            "_model_module_version": "1.5.0",
            "value": 1,
            "_view_count": null,
            "_view_module_version": "1.5.0",
            "orientation": "horizontal",
            "min": 0,
            "description_tooltip": null,
            "_model_module": "@jupyter-widgets/controls",
            "layout": "IPY_MODEL_9e5e2d7e1a6241dda1874764965bb36c"
          }
        },
        "4ee8131635904188a9ee433ec69fb304": {
          "model_module": "@jupyter-widgets/controls",
          "model_name": "HTMLModel",
          "state": {
            "_view_name": "HTMLView",
            "style": "IPY_MODEL_12ab7454c50f4ef69045d6c98faacc87",
            "_dom_classes": [],
            "description": "",
            "_model_name": "HTMLModel",
            "placeholder": "​",
            "_view_module": "@jupyter-widgets/controls",
            "_model_module_version": "1.5.0",
            "value": " 1/1 [00:00&lt;00:00,  3.17it/s]",
            "_view_count": null,
            "_view_module_version": "1.5.0",
            "description_tooltip": null,
            "_model_module": "@jupyter-widgets/controls",
            "layout": "IPY_MODEL_9bc37e75c8d248aa9ea40fe2d20c81d0"
          }
        },
        "6a646b45c6064e1caf2dd1256424bfb2": {
          "model_module": "@jupyter-widgets/controls",
          "model_name": "ProgressStyleModel",
          "state": {
            "_view_name": "StyleView",
            "_model_name": "ProgressStyleModel",
            "description_width": "initial",
            "_view_module": "@jupyter-widgets/base",
            "_model_module_version": "1.5.0",
            "_view_count": null,
            "_view_module_version": "1.2.0",
            "bar_color": null,
            "_model_module": "@jupyter-widgets/controls"
          }
        },
        "9e5e2d7e1a6241dda1874764965bb36c": {
          "model_module": "@jupyter-widgets/base",
          "model_name": "LayoutModel",
          "state": {
            "_view_name": "LayoutView",
            "grid_template_rows": null,
            "right": null,
            "justify_content": null,
            "_view_module": "@jupyter-widgets/base",
            "overflow": null,
            "_model_module_version": "1.2.0",
            "_view_count": null,
            "flex_flow": null,
            "width": null,
            "min_width": null,
            "border": null,
            "align_items": null,
            "bottom": null,
            "_model_module": "@jupyter-widgets/base",
            "top": null,
            "grid_column": null,
            "overflow_y": null,
            "overflow_x": null,
            "grid_auto_flow": null,
            "grid_area": null,
            "grid_template_columns": null,
            "flex": null,
            "_model_name": "LayoutModel",
            "justify_items": null,
            "grid_row": null,
            "max_height": null,
            "align_content": null,
            "visibility": null,
            "align_self": null,
            "height": null,
            "min_height": null,
            "padding": null,
            "grid_auto_rows": null,
            "grid_gap": null,
            "max_width": null,
            "order": null,
            "_view_module_version": "1.2.0",
            "grid_template_areas": null,
            "object_position": null,
            "object_fit": null,
            "grid_auto_columns": null,
            "margin": null,
            "display": null,
            "left": null
          }
        },
        "12ab7454c50f4ef69045d6c98faacc87": {
          "model_module": "@jupyter-widgets/controls",
          "model_name": "DescriptionStyleModel",
          "state": {
            "_view_name": "StyleView",
            "_model_name": "DescriptionStyleModel",
            "description_width": "",
            "_view_module": "@jupyter-widgets/base",
            "_model_module_version": "1.5.0",
            "_view_count": null,
            "_view_module_version": "1.2.0",
            "_model_module": "@jupyter-widgets/controls"
          }
        },
        "9bc37e75c8d248aa9ea40fe2d20c81d0": {
          "model_module": "@jupyter-widgets/base",
          "model_name": "LayoutModel",
          "state": {
            "_view_name": "LayoutView",
            "grid_template_rows": null,
            "right": null,
            "justify_content": null,
            "_view_module": "@jupyter-widgets/base",
            "overflow": null,
            "_model_module_version": "1.2.0",
            "_view_count": null,
            "flex_flow": null,
            "width": null,
            "min_width": null,
            "border": null,
            "align_items": null,
            "bottom": null,
            "_model_module": "@jupyter-widgets/base",
            "top": null,
            "grid_column": null,
            "overflow_y": null,
            "overflow_x": null,
            "grid_auto_flow": null,
            "grid_area": null,
            "grid_template_columns": null,
            "flex": null,
            "_model_name": "LayoutModel",
            "justify_items": null,
            "grid_row": null,
            "max_height": null,
            "align_content": null,
            "visibility": null,
            "align_self": null,
            "height": null,
            "min_height": null,
            "padding": null,
            "grid_auto_rows": null,
            "grid_gap": null,
            "max_width": null,
            "order": null,
            "_view_module_version": "1.2.0",
            "grid_template_areas": null,
            "object_position": null,
            "object_fit": null,
            "grid_auto_columns": null,
            "margin": null,
            "display": null,
            "left": null
          }
        }
      }
    }
  },
  "cells": [
    {
      "cell_type": "markdown",
      "metadata": {
        "id": "-9Jttgd8evcI",
        "colab_type": "text"
      },
      "source": [
        "# Russian language dataset"
      ]
    },
    {
      "cell_type": "markdown",
      "metadata": {
        "id": "KqpAlCYkxe9e",
        "colab_type": "text"
      },
      "source": [
        "First, install all prerequisites "
      ]
    },
    {
      "cell_type": "code",
      "metadata": {
        "id": "qyM4bYZgevcK",
        "colab_type": "code",
        "colab": {}
      },
      "source": [
        "!pip install langdetect tqdm\n",
        "!pip install \"tqdm==4.43.0\"\n",
        "!sudo apt-get install -y xsltproc\n",
        "from fastai.basics import *\n",
        "from tqdm import *\n",
        "from tqdm.contrib.concurrent import process_map, thread_map\n",
        "from multiprocessing import Pool\n",
        "import regex as re\n",
        "import time\n",
        "from langdetect import detect\n",
        "from langdetect.lang_detect_exception import LangDetectException\n",
        "\n",
        "NEW_LINE = '<|n|>'\n",
        "\n",
        "librusec = '/home/u/nas/librusec/lib.rus.ec'\n",
        "tmpzips = './tmp/zip'\n",
        "tmptxt = './tmp/txt'\n",
        "tmpfb2clean = './tmp/fb2clean'\n",
        "tmpfb2unzip = './tmp/fb2unzip'\n",
        "data = Path('../data/full')\n",
        "\n",
        "!mkdir ../data\n",
        "!mkdir ../data/full\n",
        "!mkdir ../data/classic\n",
        "!mkdir tmp\n",
        "!mkdir tmp/fb2unzip\n",
        "!mkdir tmp/fb2clean\n",
        "!mkdir tmp/txt\n",
        "!mkdir tmp/zip"
      ],
      "execution_count": null,
      "outputs": []
    },
    {
      "cell_type": "markdown",
      "metadata": {
        "id": "YfsNWkxOevcy",
        "colab_type": "text"
      },
      "source": [
        "### Unpack ZIPs"
      ]
    },
    {
      "cell_type": "markdown",
      "metadata": {
        "id": "qWZmL9zGsljA",
        "colab_type": "text"
      },
      "source": [
        "Before running this we need to upload our fb2 zip files to /tmp/zip and then run this script"
      ]
    },
    {
      "cell_type": "code",
      "metadata": {
        "id": "5u1sPX302-Vp",
        "colab_type": "code",
        "colab": {}
      },
      "source": [
        "# clean the output directory \n",
        "#!rm -rfv {tmpfb2unzip + '/*'}"
      ],
      "execution_count": 23,
      "outputs": []
    },
    {
      "cell_type": "code",
      "metadata": {
        "id": "Vb9jDGqTevcz",
        "colab_type": "code",
        "colab": {
          "base_uri": "https://localhost:8080/",
          "height": 99,
          "referenced_widgets": [
            "cb618f20c7964d11a7f55c20ff53ddb6",
            "1f8f0921270b4d9d87fbc6b2046543d9",
            "fe1db8fc144641fc95d030c49be2ceea",
            "4ee8131635904188a9ee433ec69fb304",
            "6a646b45c6064e1caf2dd1256424bfb2",
            "9e5e2d7e1a6241dda1874764965bb36c",
            "12ab7454c50f4ef69045d6c98faacc87",
            "9bc37e75c8d248aa9ea40fe2d20c81d0"
          ]
        },
        "outputId": "5ea921c8-8741-49bf-ef24-3af009501030"
      },
      "source": [
        "# zips = get_files(tmpzips, '.zip')\n",
        "# print(f'{len(zips)} zip file(s) found')\n",
        "\n",
        "# def unpack(fn):\n",
        "#     # replace -o with -n to not overwrite existing files\n",
        "#     # remove the -q flag for more logging\n",
        "#     # -j  junk paths (do not make directories)  \n",
        "#     # -qo flag to remove annoying warning https://www.directadmin.com/features.php?id=2213\n",
        "#     !unzip -qq -joL -qo -O cp396 {fn} -d {tmpfb2unzip} >>/dev/null\n",
        "\n",
        "# # Unpack zips in parallel\n",
        "# thread_map(unpack, zips, max_workers=64)\n",
        "# print(f'Unzipped all - DONE')\n",
        "\n",
        "# # Sanitize file and folder names - remove spaces\n",
        "# !find $tmp -depth -name \"* *\" -execdir rename 's/ /_/g' \"{}\" \\;"
      ],
      "execution_count": 59,
      "outputs": [
        {
          "output_type": "stream",
          "text": [
            "1 zip file(s) found\n"
          ],
          "name": "stdout"
        },
        {
          "output_type": "display_data",
          "data": {
            "application/vnd.jupyter.widget-view+json": {
              "model_id": "cb618f20c7964d11a7f55c20ff53ddb6",
              "version_minor": 0,
              "version_major": 2
            },
            "text/plain": [
              "HBox(children=(FloatProgress(value=0.0, max=1.0), HTML(value='')))"
            ]
          },
          "metadata": {
            "tags": []
          }
        },
        {
          "output_type": "stream",
          "text": [
            "\n",
            "Unzipped all\n"
          ],
          "name": "stdout"
        }
      ]
    },
    {
      "cell_type": "markdown",
      "metadata": {
        "id": "axX-uz4EevdM",
        "colab_type": "text"
      },
      "source": [
        "### Convert fb2 to txt"
      ]
    },
    {
      "cell_type": "code",
      "metadata": {
        "id": "lcbAxHyL2sYj",
        "colab_type": "code",
        "colab": {}
      },
      "source": [
        "# clean the output directory \n",
        "#!rm -rfv {tmpfb2clean + '/*'}"
      ],
      "execution_count": null,
      "outputs": []
    },
    {
      "cell_type": "code",
      "metadata": {
        "id": "cCY0yEsX20Wp",
        "colab_type": "code",
        "colab": {}
      },
      "source": [
        "# clean the output directory \n",
        "#!rm -rfv {tmptxt + '/*'}"
      ],
      "execution_count": null,
      "outputs": []
    },
    {
      "cell_type": "code",
      "metadata": {
        "id": "2oQ0Ot4BevdN",
        "colab_type": "code",
        "colab": {}
      },
      "source": [
        "# Get fb2s\n",
        "# fbs = get_files(tmpfb2unzip, '.fb2', recurse=True)\n",
        "\n",
        "# # Sanitize filenames and move to the 'clean' dir\n",
        "# for fn in fbs:\n",
        "#     nn = (str(fn.name)\n",
        "#         .replace(' ','')\n",
        "#         .replace('_quot;','')\n",
        "#         .replace('!','')\n",
        "#         .replace(',','')\n",
        "#         .replace('(','')\n",
        "#         .replace(')','')\n",
        "#         .replace('\\xa0','')\n",
        "#         .replace('.','')\n",
        "#         .replace('fb2', '.fb2')\n",
        "#          )\n",
        "#     shutil.move(fn, f'{tmpfb2clean}/{nn}')\n",
        "# print(f'{len(fbs)} fb2(s) sanitized')\n",
        "\n",
        "# # In order to convert you need to get the conversion xsl from here:\n",
        "# # https://github.com/mgrankin/ru_transformers/blob/master/corpus/FB2_2_txt.xsl\n",
        "# # and put it in the root folder\n",
        "# def convert_fb2(fn):\n",
        "#     #!xsltproc FB2_2_txt.xsl {fn} > {str(fn).replace(' ', '').replace('.fb2','.txt').replace('/fb2','/txt')} 2>>/dev/null\n",
        "#     !xsltproc FB2_2_txt.xsl {fn} > {tmptxt + '/' + fn.name.replace('fb2', 'txt')} 2>>/dev/null\n",
        "#     return {fn}\n",
        "\n",
        "# # Get fb2s from the clean snitized dir\n",
        "# fbs = get_files(tmpfb2clean, '.fb2')\n",
        "\n",
        "# # convert all to .txt\n",
        "# thread_map(convert_fb2, fbs, max_workers=64)\n",
        "# print('FB2(s) conversion done')"
      ],
      "execution_count": null,
      "outputs": []
    },
    {
      "cell_type": "markdown",
      "metadata": {
        "id": "ZIuco_8a1I-4",
        "colab_type": "text"
      },
      "source": [
        "### Filter and concat txt files"
      ]
    },
    {
      "cell_type": "code",
      "metadata": {
        "id": "puHJbvlq1SIu",
        "colab_type": "code",
        "colab": {}
      },
      "source": [
        "txts = get_files('./tmp/txt', '.txt')\n",
        "print(f'Found {len(txts)} txt(s)')\n",
        "\n",
        "# this will take time, bcs langdetect fails on multithreading\n",
        "print('Running langdetect . . . ')\n",
        "for fn in progress_bar(txts):\n",
        "    with open(f'./{fn}', 'r') as f:\n",
        "        lines = f.read()\n",
        "        print(f)\n",
        "        print(fn)\n",
        "        print(len(lines))\n",
        "        try:\n",
        "            if len(lines) > 1e+4 and detect(lines) == 'ru':\n",
        "                with open(f'{data}/{fn.name}', 'w') as c:\n",
        "                    c.write(lines)\n",
        "        except LangDetectException as e:\n",
        "            pass\n",
        "\n",
        "# Add space before each word. It's not really nesessary. \n",
        "# It just makes encoding a bit more meaningful to the model and the text smaller(after encoding).\n",
        "print('Running text sanitization . . . ')\n",
        "def process_fn(fn):\n",
        "    match = re.compile(r'(?=[^ ])([\\W])([\\w])')\n",
        "    match2 = re.compile('(.|\\s)\\\\1\\\\1+')\n",
        "    with open(fn, 'r') as f:\n",
        "        lines = f.read()\n",
        "    if lines and lines[0] != ' ': lines = ' ' + lines\n",
        "    lines = match.sub(r'\\g<1> \\g<2>', lines)\n",
        "    lines = match2.sub(r'\\1'*3, lines)\n",
        "    with open(fn, 'w') as c:\n",
        "        c.write(lines)\n",
        "        \n",
        "thread_map(process_fn, txts)"
      ],
      "execution_count": null,
      "outputs": []
    },
    {
      "cell_type": "code",
      "metadata": {
        "id": "LQ612AmS2B5K",
        "colab_type": "code",
        "colab": {}
      },
      "source": [
        "txts = get_files(data, '.txt'); \n",
        "print(f'Amount of txt(s): {len(txts)}')\n",
        "\n",
        "fsorted = get_files('../data/classic', '.txt') + sorted(txts, key=lambda fn: os.path.getsize(fn))\n",
        "\n",
        "print('Building text corpus')\n",
        "sz=0\n",
        "with open('./tmp/russian_corpus_for_vocab.txt', 'w') as c:\n",
        "    for fn in fsorted:\n",
        "        with open(fn, 'r') as f:\n",
        "            sz += c.write(f.read().replace('\\n', f' {NEW_LINE} ') + '\\n')\n",
        "            if sz > 5e+9:\n",
        "                break\n",
        "print('Done ./tmp/russian_corpus_for_vocab.txt')"
      ],
      "execution_count": null,
      "outputs": []
    },
    {
      "cell_type": "markdown",
      "metadata": {
        "id": "do8mJhK82iHp",
        "colab_type": "text"
      },
      "source": [
        "Now a text corpus can be collected from ./tmp/russian_corpus_for_vocab.txt to use with gpt-2"
      ]
    }
  ]
}